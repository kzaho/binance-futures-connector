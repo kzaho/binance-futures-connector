{
 "nbformat": 4,
 "nbformat_minor": 0,
 "metadata": {
  "colab": {
   "provenance": []
  },
  "kernelspec": {
   "name": "python3",
   "language": "python",
   "display_name": "Python 3 (ipykernel)"
  },
  "language_info": {
   "name": "python"
  }
 },
 "cells": [
  {
   "cell_type": "code",
   "execution_count": 36,
   "outputs": [
    {
     "data": {
      "text/plain": "True"
     },
     "execution_count": 36,
     "metadata": {},
     "output_type": "execute_result"
    }
   ],
   "source": [
    "import os\n",
    "import datetime\n",
    "import pandas as pd\n",
    "from dotenv import load_dotenv\n",
    "from binance.client import Client\n",
    "\n",
    "load_dotenv()"
   ],
   "metadata": {
    "collapsed": false,
    "ExecuteTime": {
     "end_time": "2024-06-22T16:13:05.919162200Z",
     "start_time": "2024-06-22T16:13:05.601663400Z"
    }
   }
  },
  {
   "cell_type": "code",
   "execution_count": 48,
   "outputs": [
    {
     "name": "stdout",
     "output_type": "stream",
     "text": [
      "Server time: 2024-06-22 19:22:25\n"
     ]
    }
   ],
   "source": [
    "def print_server_time():\n",
    "    # Get server time & convert milliseconds to seconds\n",
    "    timestamp_s = client.futures_time()['serverTime'] / 1000.0\n",
    "    # Create a datetime object from the timestamp\n",
    "    human_readable_date = datetime.datetime.fromtimestamp(timestamp_s)\n",
    "    # \n",
    "    # Format the datetime object to a human-readable string\n",
    "    formatted_date = human_readable_date.strftime('%Y-%m-%d %H:%M:%S')\n",
    "    \n",
    "    print(\"Server time:\", formatted_date)\n",
    "    \n",
    "\n",
    "print_server_time()"
   ],
   "metadata": {
    "collapsed": false,
    "ExecuteTime": {
     "end_time": "2024-06-22T16:22:24.698040900Z",
     "start_time": "2024-06-22T16:22:24.371064500Z"
    }
   }
  },
  {
   "cell_type": "code",
   "execution_count": 37,
   "outputs": [],
   "source": [
    "client = Client(api_key=os.getenv('BINANCE_KEY'), api_secret=os.getenv('BINANCE_SECRET'))"
   ],
   "metadata": {
    "collapsed": false,
    "ExecuteTime": {
     "end_time": "2024-06-22T16:13:30.743697800Z",
     "start_time": "2024-06-22T16:13:30.366210500Z"
    }
   }
  },
  {
   "cell_type": "code",
   "execution_count": 40,
   "outputs": [],
   "source": [
    "futures_account = client.futures_account()"
   ],
   "metadata": {
    "collapsed": false,
    "ExecuteTime": {
     "end_time": "2024-06-22T16:17:41.842034800Z",
     "start_time": "2024-06-22T16:17:41.508737600Z"
    }
   }
  },
  {
   "cell_type": "code",
   "execution_count": 41,
   "outputs": [
    {
     "data": {
      "text/plain": "dict_keys(['feeTier', 'canTrade', 'canDeposit', 'canWithdraw', 'feeBurn', 'tradeGroupId', 'updateTime', 'multiAssetsMargin', 'totalInitialMargin', 'totalMaintMargin', 'totalWalletBalance', 'totalUnrealizedProfit', 'totalMarginBalance', 'totalPositionInitialMargin', 'totalOpenOrderInitialMargin', 'totalCrossWalletBalance', 'totalCrossUnPnl', 'availableBalance', 'maxWithdrawAmount', 'assets', 'positions'])"
     },
     "execution_count": 41,
     "metadata": {},
     "output_type": "execute_result"
    }
   ],
   "source": [
    "futures_account.keys()"
   ],
   "metadata": {
    "collapsed": false,
    "ExecuteTime": {
     "end_time": "2024-06-22T16:17:48.387251600Z",
     "start_time": "2024-06-22T16:17:48.375146100Z"
    }
   }
  },
  {
   "cell_type": "code",
   "execution_count": 43,
   "outputs": [],
   "source": [
    "assets = pd.DataFrame(futures_account['assets'])"
   ],
   "metadata": {
    "collapsed": false,
    "ExecuteTime": {
     "end_time": "2024-06-22T16:18:42.483938300Z",
     "start_time": "2024-06-22T16:18:42.469435200Z"
    }
   }
  },
  {
   "cell_type": "code",
   "execution_count": 46,
   "outputs": [
    {
     "data": {
      "text/plain": "   asset walletBalance unrealizedProfit marginBalance maintMargin  \\\n4   USDT   70.54562787       0.00000000   70.54562787  0.00000000   \n0  FDUSD    0.00000000       0.00000000    0.00000000  0.00000000   \n1    BTC    0.00000000       0.00000000    0.00000000  0.00000000   \n2    BNB    0.00000000       0.00000000    0.00000000  0.00000000   \n3    ETH    0.00000000       0.00000000    0.00000000  0.00000000   \n5   USDC    0.00000000       0.00000000    0.00000000  0.00000000   \n\n  initialMargin positionInitialMargin openOrderInitialMargin  \\\n4    0.00000000            0.00000000             0.00000000   \n0    0.00000000            0.00000000             0.00000000   \n1    0.00000000            0.00000000             0.00000000   \n2    0.00000000            0.00000000             0.00000000   \n3    0.00000000            0.00000000             0.00000000   \n5    0.00000000            0.00000000             0.00000000   \n\n  maxWithdrawAmount crossWalletBalance  crossUnPnl availableBalance  \\\n4       70.54562787        70.54562787  0.00000000      70.54562787   \n0        0.00000000         0.00000000  0.00000000       0.00000000   \n1        0.00000000         0.00000000  0.00000000       0.00000000   \n2        0.00000000         0.00000000  0.00000000       0.00000000   \n3        0.00000000         0.00000000  0.00000000       0.00000000   \n5        0.00000000         0.00000000  0.00000000       0.00000000   \n\n   marginAvailable     updateTime  \n4             True  1719069459112  \n0             True              0  \n1             True              0  \n2             True              0  \n3             True              0  \n5             True              0  ",
      "text/html": "<div>\n<style scoped>\n    .dataframe tbody tr th:only-of-type {\n        vertical-align: middle;\n    }\n\n    .dataframe tbody tr th {\n        vertical-align: top;\n    }\n\n    .dataframe thead th {\n        text-align: right;\n    }\n</style>\n<table border=\"1\" class=\"dataframe\">\n  <thead>\n    <tr style=\"text-align: right;\">\n      <th></th>\n      <th>asset</th>\n      <th>walletBalance</th>\n      <th>unrealizedProfit</th>\n      <th>marginBalance</th>\n      <th>maintMargin</th>\n      <th>initialMargin</th>\n      <th>positionInitialMargin</th>\n      <th>openOrderInitialMargin</th>\n      <th>maxWithdrawAmount</th>\n      <th>crossWalletBalance</th>\n      <th>crossUnPnl</th>\n      <th>availableBalance</th>\n      <th>marginAvailable</th>\n      <th>updateTime</th>\n    </tr>\n  </thead>\n  <tbody>\n    <tr>\n      <th>4</th>\n      <td>USDT</td>\n      <td>70.54562787</td>\n      <td>0.00000000</td>\n      <td>70.54562787</td>\n      <td>0.00000000</td>\n      <td>0.00000000</td>\n      <td>0.00000000</td>\n      <td>0.00000000</td>\n      <td>70.54562787</td>\n      <td>70.54562787</td>\n      <td>0.00000000</td>\n      <td>70.54562787</td>\n      <td>True</td>\n      <td>1719069459112</td>\n    </tr>\n    <tr>\n      <th>0</th>\n      <td>FDUSD</td>\n      <td>0.00000000</td>\n      <td>0.00000000</td>\n      <td>0.00000000</td>\n      <td>0.00000000</td>\n      <td>0.00000000</td>\n      <td>0.00000000</td>\n      <td>0.00000000</td>\n      <td>0.00000000</td>\n      <td>0.00000000</td>\n      <td>0.00000000</td>\n      <td>0.00000000</td>\n      <td>True</td>\n      <td>0</td>\n    </tr>\n    <tr>\n      <th>1</th>\n      <td>BTC</td>\n      <td>0.00000000</td>\n      <td>0.00000000</td>\n      <td>0.00000000</td>\n      <td>0.00000000</td>\n      <td>0.00000000</td>\n      <td>0.00000000</td>\n      <td>0.00000000</td>\n      <td>0.00000000</td>\n      <td>0.00000000</td>\n      <td>0.00000000</td>\n      <td>0.00000000</td>\n      <td>True</td>\n      <td>0</td>\n    </tr>\n    <tr>\n      <th>2</th>\n      <td>BNB</td>\n      <td>0.00000000</td>\n      <td>0.00000000</td>\n      <td>0.00000000</td>\n      <td>0.00000000</td>\n      <td>0.00000000</td>\n      <td>0.00000000</td>\n      <td>0.00000000</td>\n      <td>0.00000000</td>\n      <td>0.00000000</td>\n      <td>0.00000000</td>\n      <td>0.00000000</td>\n      <td>True</td>\n      <td>0</td>\n    </tr>\n    <tr>\n      <th>3</th>\n      <td>ETH</td>\n      <td>0.00000000</td>\n      <td>0.00000000</td>\n      <td>0.00000000</td>\n      <td>0.00000000</td>\n      <td>0.00000000</td>\n      <td>0.00000000</td>\n      <td>0.00000000</td>\n      <td>0.00000000</td>\n      <td>0.00000000</td>\n      <td>0.00000000</td>\n      <td>0.00000000</td>\n      <td>True</td>\n      <td>0</td>\n    </tr>\n    <tr>\n      <th>5</th>\n      <td>USDC</td>\n      <td>0.00000000</td>\n      <td>0.00000000</td>\n      <td>0.00000000</td>\n      <td>0.00000000</td>\n      <td>0.00000000</td>\n      <td>0.00000000</td>\n      <td>0.00000000</td>\n      <td>0.00000000</td>\n      <td>0.00000000</td>\n      <td>0.00000000</td>\n      <td>0.00000000</td>\n      <td>True</td>\n      <td>0</td>\n    </tr>\n  </tbody>\n</table>\n</div>"
     },
     "execution_count": 46,
     "metadata": {},
     "output_type": "execute_result"
    }
   ],
   "source": [
    "assets.sort_values('walletBalance', ascending=False)"
   ],
   "metadata": {
    "collapsed": false,
    "ExecuteTime": {
     "end_time": "2024-06-22T16:19:01.556468800Z",
     "start_time": "2024-06-22T16:19:01.516514700Z"
    }
   }
  },
  {
   "cell_type": "code",
   "execution_count": null,
   "outputs": [],
   "source": [],
   "metadata": {
    "collapsed": false
   }
  },
  {
   "cell_type": "code",
   "execution_count": null,
   "outputs": [],
   "source": [],
   "metadata": {
    "collapsed": false
   }
  },
  {
   "cell_type": "code",
   "source": [],
   "metadata": {
    "id": "aQRnLXdbiqhl"
   },
   "execution_count": null,
   "outputs": []
  }
 ]
}
